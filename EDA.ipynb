{
 "cells": [
  {
   "cell_type": "markdown",
   "metadata": {},
   "source": [
    "## Final Project Submission\n",
    "\n",
    "Please fill out:\n",
    "* Student name: Tim Fuger\n",
    "* Student pace: Part time\n",
    "* Scheduled project review date/time: 6/17/22 at 3 pm\n",
    "* Instructor name: Morgan Jones\n",
    "* Blog post URL: TBD\n"
   ]
  },
  {
   "cell_type": "markdown",
   "metadata": {},
   "source": [
    "## Project Goal\n",
    "\n",
    "The goal of this project is to research/analyze movie data from multiple sources in order to make a recommendation to a new movie studio company (Microsoft) on what types of movies they should pursue.\n",
    "\n",
    "The primary ask from the company is that the type of movies they pursue are similar to the ones \"doing best at the box office.\" From a business perspective, I believe that they are looking to receive the greatest return on the investment that is placed in the movie. To understand what has given the best ROI in the past, we must dig into the data on previous movies and analyze the metrics. We will also analyze the budgets of these movies to determine what the range of spending will be for a movie project."
   ]
  },
  {
   "cell_type": "markdown",
   "metadata": {},
   "source": [
    "## Data Source and Data Exploration\n",
    "\n",
    "The data shown in the following notebook comes from five main sources. \n",
    "\n",
    "1. Box Office Mojo\n",
    "2. IMDB\n",
    "3. Rotten Tomatoes\n",
    "4. TheMovieDB\n",
    "5. The Numbers\n",
    "\n"
   ]
  },
  {
   "cell_type": "markdown",
   "metadata": {},
   "source": [
    "We start by importing the proper packages required"
   ]
  },
  {
   "cell_type": "code",
   "execution_count": 1,
   "metadata": {},
   "outputs": [],
   "source": [
    "import sqlite3\n",
    "conn = sqlite3.connect(\"zippedData/im.db/im.db\")\n",
    "import pandas as pd\n",
    "import matplotlib.pyplot as plt\n",
    "%matplotlib inline\n",
    "import numpy as np\n",
    "import seaborn as sns\n",
    "sns.set_theme()"
   ]
  },
  {
   "cell_type": "markdown",
   "metadata": {},
   "source": [
    "## Create Dataframes\n",
    "\n",
    "In the next segment, we create dataframes for each data source available"
   ]
  },
  {
   "cell_type": "code",
   "execution_count": 2,
   "metadata": {
    "scrolled": true
   },
   "outputs": [],
   "source": [
    "BOM_df = pd.read_csv('zippedData/bom.movie_gross.csv.gz')\n",
    "# Combine movie ratings and movie basics from the IMDB dataset to create one dataframe\n",
    "imdb_movie_df = pd.read_sql(\"\"\"\n",
    "SELECT *\n",
    "FROM movie_basics\n",
    "JOIN movie_ratings USING(movie_id)\n",
    ";\n",
    "\"\"\", conn)\n",
    "rtmovieinfo_df = pd.read_csv('zippedData/rt.movie_info.tsv.gz', sep='\\t')\n",
    "rtreviews_df = pd.read_csv('zippedData/rt.reviews.tsv.gz', sep='\\t', encoding='latin-1')\n",
    "tmdb_df = pd.read_csv('zippedData/tmdb.movies.csv.gz')\n",
    "tnmoviebudget_df = pd.read_csv('zippedData/tn.movie_budgets.csv.gz')"
   ]
  },
  {
   "cell_type": "code",
   "execution_count": 3,
   "metadata": {
    "scrolled": true
   },
   "outputs": [
    {
     "data": {
      "text/html": [
       "<div>\n",
       "<style scoped>\n",
       "    .dataframe tbody tr th:only-of-type {\n",
       "        vertical-align: middle;\n",
       "    }\n",
       "\n",
       "    .dataframe tbody tr th {\n",
       "        vertical-align: top;\n",
       "    }\n",
       "\n",
       "    .dataframe thead th {\n",
       "        text-align: right;\n",
       "    }\n",
       "</style>\n",
       "<table border=\"1\" class=\"dataframe\">\n",
       "  <thead>\n",
       "    <tr style=\"text-align: right;\">\n",
       "      <th></th>\n",
       "      <th>movie_id</th>\n",
       "      <th>primary_title</th>\n",
       "      <th>original_title</th>\n",
       "      <th>start_year</th>\n",
       "      <th>runtime_minutes</th>\n",
       "      <th>genres</th>\n",
       "      <th>averagerating</th>\n",
       "      <th>numvotes</th>\n",
       "    </tr>\n",
       "  </thead>\n",
       "  <tbody>\n",
       "    <tr>\n",
       "      <th>0</th>\n",
       "      <td>tt0063540</td>\n",
       "      <td>Sunghursh</td>\n",
       "      <td>Sunghursh</td>\n",
       "      <td>2013</td>\n",
       "      <td>175.0</td>\n",
       "      <td>Action,Crime,Drama</td>\n",
       "      <td>7.0</td>\n",
       "      <td>77</td>\n",
       "    </tr>\n",
       "    <tr>\n",
       "      <th>1</th>\n",
       "      <td>tt0066787</td>\n",
       "      <td>One Day Before the Rainy Season</td>\n",
       "      <td>Ashad Ka Ek Din</td>\n",
       "      <td>2019</td>\n",
       "      <td>114.0</td>\n",
       "      <td>Biography,Drama</td>\n",
       "      <td>7.2</td>\n",
       "      <td>43</td>\n",
       "    </tr>\n",
       "    <tr>\n",
       "      <th>2</th>\n",
       "      <td>tt0069049</td>\n",
       "      <td>The Other Side of the Wind</td>\n",
       "      <td>The Other Side of the Wind</td>\n",
       "      <td>2018</td>\n",
       "      <td>122.0</td>\n",
       "      <td>Drama</td>\n",
       "      <td>6.9</td>\n",
       "      <td>4517</td>\n",
       "    </tr>\n",
       "    <tr>\n",
       "      <th>3</th>\n",
       "      <td>tt0069204</td>\n",
       "      <td>Sabse Bada Sukh</td>\n",
       "      <td>Sabse Bada Sukh</td>\n",
       "      <td>2018</td>\n",
       "      <td>NaN</td>\n",
       "      <td>Comedy,Drama</td>\n",
       "      <td>6.1</td>\n",
       "      <td>13</td>\n",
       "    </tr>\n",
       "    <tr>\n",
       "      <th>4</th>\n",
       "      <td>tt0100275</td>\n",
       "      <td>The Wandering Soap Opera</td>\n",
       "      <td>La Telenovela Errante</td>\n",
       "      <td>2017</td>\n",
       "      <td>80.0</td>\n",
       "      <td>Comedy,Drama,Fantasy</td>\n",
       "      <td>6.5</td>\n",
       "      <td>119</td>\n",
       "    </tr>\n",
       "  </tbody>\n",
       "</table>\n",
       "</div>"
      ],
      "text/plain": [
       "    movie_id                    primary_title              original_title  \\\n",
       "0  tt0063540                        Sunghursh                   Sunghursh   \n",
       "1  tt0066787  One Day Before the Rainy Season             Ashad Ka Ek Din   \n",
       "2  tt0069049       The Other Side of the Wind  The Other Side of the Wind   \n",
       "3  tt0069204                  Sabse Bada Sukh             Sabse Bada Sukh   \n",
       "4  tt0100275         The Wandering Soap Opera       La Telenovela Errante   \n",
       "\n",
       "   start_year  runtime_minutes                genres  averagerating  numvotes  \n",
       "0        2013            175.0    Action,Crime,Drama            7.0        77  \n",
       "1        2019            114.0       Biography,Drama            7.2        43  \n",
       "2        2018            122.0                 Drama            6.9      4517  \n",
       "3        2018              NaN          Comedy,Drama            6.1        13  \n",
       "4        2017             80.0  Comedy,Drama,Fantasy            6.5       119  "
      ]
     },
     "execution_count": 3,
     "metadata": {},
     "output_type": "execute_result"
    }
   ],
   "source": [
    "imdb_movie_df.head()"
   ]
  },
  {
   "cell_type": "code",
   "execution_count": 4,
   "metadata": {
    "scrolled": true
   },
   "outputs": [
    {
     "data": {
      "text/html": [
       "<div>\n",
       "<style scoped>\n",
       "    .dataframe tbody tr th:only-of-type {\n",
       "        vertical-align: middle;\n",
       "    }\n",
       "\n",
       "    .dataframe tbody tr th {\n",
       "        vertical-align: top;\n",
       "    }\n",
       "\n",
       "    .dataframe thead th {\n",
       "        text-align: right;\n",
       "    }\n",
       "</style>\n",
       "<table border=\"1\" class=\"dataframe\">\n",
       "  <thead>\n",
       "    <tr style=\"text-align: right;\">\n",
       "      <th></th>\n",
       "      <th>id</th>\n",
       "      <th>synopsis</th>\n",
       "      <th>rating</th>\n",
       "      <th>genre</th>\n",
       "      <th>director</th>\n",
       "      <th>writer</th>\n",
       "      <th>theater_date</th>\n",
       "      <th>dvd_date</th>\n",
       "      <th>currency</th>\n",
       "      <th>box_office</th>\n",
       "      <th>runtime</th>\n",
       "      <th>studio</th>\n",
       "    </tr>\n",
       "  </thead>\n",
       "  <tbody>\n",
       "    <tr>\n",
       "      <th>0</th>\n",
       "      <td>1</td>\n",
       "      <td>This gritty, fast-paced, and innovative police...</td>\n",
       "      <td>R</td>\n",
       "      <td>Action and Adventure|Classics|Drama</td>\n",
       "      <td>William Friedkin</td>\n",
       "      <td>Ernest Tidyman</td>\n",
       "      <td>Oct 9, 1971</td>\n",
       "      <td>Sep 25, 2001</td>\n",
       "      <td>NaN</td>\n",
       "      <td>NaN</td>\n",
       "      <td>104 minutes</td>\n",
       "      <td>NaN</td>\n",
       "    </tr>\n",
       "    <tr>\n",
       "      <th>1</th>\n",
       "      <td>3</td>\n",
       "      <td>New York City, not-too-distant-future: Eric Pa...</td>\n",
       "      <td>R</td>\n",
       "      <td>Drama|Science Fiction and Fantasy</td>\n",
       "      <td>David Cronenberg</td>\n",
       "      <td>David Cronenberg|Don DeLillo</td>\n",
       "      <td>Aug 17, 2012</td>\n",
       "      <td>Jan 1, 2013</td>\n",
       "      <td>$</td>\n",
       "      <td>600,000</td>\n",
       "      <td>108 minutes</td>\n",
       "      <td>Entertainment One</td>\n",
       "    </tr>\n",
       "    <tr>\n",
       "      <th>2</th>\n",
       "      <td>5</td>\n",
       "      <td>Illeana Douglas delivers a superb performance ...</td>\n",
       "      <td>R</td>\n",
       "      <td>Drama|Musical and Performing Arts</td>\n",
       "      <td>Allison Anders</td>\n",
       "      <td>Allison Anders</td>\n",
       "      <td>Sep 13, 1996</td>\n",
       "      <td>Apr 18, 2000</td>\n",
       "      <td>NaN</td>\n",
       "      <td>NaN</td>\n",
       "      <td>116 minutes</td>\n",
       "      <td>NaN</td>\n",
       "    </tr>\n",
       "    <tr>\n",
       "      <th>3</th>\n",
       "      <td>6</td>\n",
       "      <td>Michael Douglas runs afoul of a treacherous su...</td>\n",
       "      <td>R</td>\n",
       "      <td>Drama|Mystery and Suspense</td>\n",
       "      <td>Barry Levinson</td>\n",
       "      <td>Paul Attanasio|Michael Crichton</td>\n",
       "      <td>Dec 9, 1994</td>\n",
       "      <td>Aug 27, 1997</td>\n",
       "      <td>NaN</td>\n",
       "      <td>NaN</td>\n",
       "      <td>128 minutes</td>\n",
       "      <td>NaN</td>\n",
       "    </tr>\n",
       "    <tr>\n",
       "      <th>4</th>\n",
       "      <td>7</td>\n",
       "      <td>NaN</td>\n",
       "      <td>NR</td>\n",
       "      <td>Drama|Romance</td>\n",
       "      <td>Rodney Bennett</td>\n",
       "      <td>Giles Cooper</td>\n",
       "      <td>NaN</td>\n",
       "      <td>NaN</td>\n",
       "      <td>NaN</td>\n",
       "      <td>NaN</td>\n",
       "      <td>200 minutes</td>\n",
       "      <td>NaN</td>\n",
       "    </tr>\n",
       "  </tbody>\n",
       "</table>\n",
       "</div>"
      ],
      "text/plain": [
       "   id                                           synopsis rating  \\\n",
       "0   1  This gritty, fast-paced, and innovative police...      R   \n",
       "1   3  New York City, not-too-distant-future: Eric Pa...      R   \n",
       "2   5  Illeana Douglas delivers a superb performance ...      R   \n",
       "3   6  Michael Douglas runs afoul of a treacherous su...      R   \n",
       "4   7                                                NaN     NR   \n",
       "\n",
       "                                 genre          director  \\\n",
       "0  Action and Adventure|Classics|Drama  William Friedkin   \n",
       "1    Drama|Science Fiction and Fantasy  David Cronenberg   \n",
       "2    Drama|Musical and Performing Arts    Allison Anders   \n",
       "3           Drama|Mystery and Suspense    Barry Levinson   \n",
       "4                        Drama|Romance    Rodney Bennett   \n",
       "\n",
       "                            writer  theater_date      dvd_date currency  \\\n",
       "0                   Ernest Tidyman   Oct 9, 1971  Sep 25, 2001      NaN   \n",
       "1     David Cronenberg|Don DeLillo  Aug 17, 2012   Jan 1, 2013        $   \n",
       "2                   Allison Anders  Sep 13, 1996  Apr 18, 2000      NaN   \n",
       "3  Paul Attanasio|Michael Crichton   Dec 9, 1994  Aug 27, 1997      NaN   \n",
       "4                     Giles Cooper           NaN           NaN      NaN   \n",
       "\n",
       "  box_office      runtime             studio  \n",
       "0        NaN  104 minutes                NaN  \n",
       "1    600,000  108 minutes  Entertainment One  \n",
       "2        NaN  116 minutes                NaN  \n",
       "3        NaN  128 minutes                NaN  \n",
       "4        NaN  200 minutes                NaN  "
      ]
     },
     "execution_count": 4,
     "metadata": {},
     "output_type": "execute_result"
    }
   ],
   "source": [
    "rtmovieinfo_df.head()"
   ]
  },
  {
   "cell_type": "code",
   "execution_count": 5,
   "metadata": {
    "scrolled": true
   },
   "outputs": [
    {
     "data": {
      "text/html": [
       "<div>\n",
       "<style scoped>\n",
       "    .dataframe tbody tr th:only-of-type {\n",
       "        vertical-align: middle;\n",
       "    }\n",
       "\n",
       "    .dataframe tbody tr th {\n",
       "        vertical-align: top;\n",
       "    }\n",
       "\n",
       "    .dataframe thead th {\n",
       "        text-align: right;\n",
       "    }\n",
       "</style>\n",
       "<table border=\"1\" class=\"dataframe\">\n",
       "  <thead>\n",
       "    <tr style=\"text-align: right;\">\n",
       "      <th></th>\n",
       "      <th>id</th>\n",
       "      <th>review</th>\n",
       "      <th>rating</th>\n",
       "      <th>fresh</th>\n",
       "      <th>critic</th>\n",
       "      <th>top_critic</th>\n",
       "      <th>publisher</th>\n",
       "      <th>date</th>\n",
       "    </tr>\n",
       "  </thead>\n",
       "  <tbody>\n",
       "    <tr>\n",
       "      <th>0</th>\n",
       "      <td>3</td>\n",
       "      <td>A distinctly gallows take on contemporary fina...</td>\n",
       "      <td>3/5</td>\n",
       "      <td>fresh</td>\n",
       "      <td>PJ Nabarro</td>\n",
       "      <td>0</td>\n",
       "      <td>Patrick Nabarro</td>\n",
       "      <td>November 10, 2018</td>\n",
       "    </tr>\n",
       "    <tr>\n",
       "      <th>1</th>\n",
       "      <td>3</td>\n",
       "      <td>It's an allegory in search of a meaning that n...</td>\n",
       "      <td>NaN</td>\n",
       "      <td>rotten</td>\n",
       "      <td>Annalee Newitz</td>\n",
       "      <td>0</td>\n",
       "      <td>io9.com</td>\n",
       "      <td>May 23, 2018</td>\n",
       "    </tr>\n",
       "    <tr>\n",
       "      <th>2</th>\n",
       "      <td>3</td>\n",
       "      <td>... life lived in a bubble in financial dealin...</td>\n",
       "      <td>NaN</td>\n",
       "      <td>fresh</td>\n",
       "      <td>Sean Axmaker</td>\n",
       "      <td>0</td>\n",
       "      <td>Stream on Demand</td>\n",
       "      <td>January 4, 2018</td>\n",
       "    </tr>\n",
       "    <tr>\n",
       "      <th>3</th>\n",
       "      <td>3</td>\n",
       "      <td>Continuing along a line introduced in last yea...</td>\n",
       "      <td>NaN</td>\n",
       "      <td>fresh</td>\n",
       "      <td>Daniel Kasman</td>\n",
       "      <td>0</td>\n",
       "      <td>MUBI</td>\n",
       "      <td>November 16, 2017</td>\n",
       "    </tr>\n",
       "    <tr>\n",
       "      <th>4</th>\n",
       "      <td>3</td>\n",
       "      <td>... a perverse twist on neorealism...</td>\n",
       "      <td>NaN</td>\n",
       "      <td>fresh</td>\n",
       "      <td>NaN</td>\n",
       "      <td>0</td>\n",
       "      <td>Cinema Scope</td>\n",
       "      <td>October 12, 2017</td>\n",
       "    </tr>\n",
       "  </tbody>\n",
       "</table>\n",
       "</div>"
      ],
      "text/plain": [
       "   id                                             review rating   fresh  \\\n",
       "0   3  A distinctly gallows take on contemporary fina...    3/5   fresh   \n",
       "1   3  It's an allegory in search of a meaning that n...    NaN  rotten   \n",
       "2   3  ... life lived in a bubble in financial dealin...    NaN   fresh   \n",
       "3   3  Continuing along a line introduced in last yea...    NaN   fresh   \n",
       "4   3             ... a perverse twist on neorealism...     NaN   fresh   \n",
       "\n",
       "           critic  top_critic         publisher               date  \n",
       "0      PJ Nabarro           0   Patrick Nabarro  November 10, 2018  \n",
       "1  Annalee Newitz           0           io9.com       May 23, 2018  \n",
       "2    Sean Axmaker           0  Stream on Demand    January 4, 2018  \n",
       "3   Daniel Kasman           0              MUBI  November 16, 2017  \n",
       "4             NaN           0      Cinema Scope   October 12, 2017  "
      ]
     },
     "execution_count": 5,
     "metadata": {},
     "output_type": "execute_result"
    }
   ],
   "source": [
    "rtreviews_df.head()"
   ]
  },
  {
   "cell_type": "code",
   "execution_count": 6,
   "metadata": {},
   "outputs": [
    {
     "data": {
      "text/html": [
       "<div>\n",
       "<style scoped>\n",
       "    .dataframe tbody tr th:only-of-type {\n",
       "        vertical-align: middle;\n",
       "    }\n",
       "\n",
       "    .dataframe tbody tr th {\n",
       "        vertical-align: top;\n",
       "    }\n",
       "\n",
       "    .dataframe thead th {\n",
       "        text-align: right;\n",
       "    }\n",
       "</style>\n",
       "<table border=\"1\" class=\"dataframe\">\n",
       "  <thead>\n",
       "    <tr style=\"text-align: right;\">\n",
       "      <th></th>\n",
       "      <th>Unnamed: 0</th>\n",
       "      <th>genre_ids</th>\n",
       "      <th>id</th>\n",
       "      <th>original_language</th>\n",
       "      <th>original_title</th>\n",
       "      <th>popularity</th>\n",
       "      <th>release_date</th>\n",
       "      <th>title</th>\n",
       "      <th>vote_average</th>\n",
       "      <th>vote_count</th>\n",
       "    </tr>\n",
       "  </thead>\n",
       "  <tbody>\n",
       "    <tr>\n",
       "      <th>0</th>\n",
       "      <td>0</td>\n",
       "      <td>[12, 14, 10751]</td>\n",
       "      <td>12444</td>\n",
       "      <td>en</td>\n",
       "      <td>Harry Potter and the Deathly Hallows: Part 1</td>\n",
       "      <td>33.533</td>\n",
       "      <td>2010-11-19</td>\n",
       "      <td>Harry Potter and the Deathly Hallows: Part 1</td>\n",
       "      <td>7.7</td>\n",
       "      <td>10788</td>\n",
       "    </tr>\n",
       "    <tr>\n",
       "      <th>1</th>\n",
       "      <td>1</td>\n",
       "      <td>[14, 12, 16, 10751]</td>\n",
       "      <td>10191</td>\n",
       "      <td>en</td>\n",
       "      <td>How to Train Your Dragon</td>\n",
       "      <td>28.734</td>\n",
       "      <td>2010-03-26</td>\n",
       "      <td>How to Train Your Dragon</td>\n",
       "      <td>7.7</td>\n",
       "      <td>7610</td>\n",
       "    </tr>\n",
       "    <tr>\n",
       "      <th>2</th>\n",
       "      <td>2</td>\n",
       "      <td>[12, 28, 878]</td>\n",
       "      <td>10138</td>\n",
       "      <td>en</td>\n",
       "      <td>Iron Man 2</td>\n",
       "      <td>28.515</td>\n",
       "      <td>2010-05-07</td>\n",
       "      <td>Iron Man 2</td>\n",
       "      <td>6.8</td>\n",
       "      <td>12368</td>\n",
       "    </tr>\n",
       "    <tr>\n",
       "      <th>3</th>\n",
       "      <td>3</td>\n",
       "      <td>[16, 35, 10751]</td>\n",
       "      <td>862</td>\n",
       "      <td>en</td>\n",
       "      <td>Toy Story</td>\n",
       "      <td>28.005</td>\n",
       "      <td>1995-11-22</td>\n",
       "      <td>Toy Story</td>\n",
       "      <td>7.9</td>\n",
       "      <td>10174</td>\n",
       "    </tr>\n",
       "    <tr>\n",
       "      <th>4</th>\n",
       "      <td>4</td>\n",
       "      <td>[28, 878, 12]</td>\n",
       "      <td>27205</td>\n",
       "      <td>en</td>\n",
       "      <td>Inception</td>\n",
       "      <td>27.920</td>\n",
       "      <td>2010-07-16</td>\n",
       "      <td>Inception</td>\n",
       "      <td>8.3</td>\n",
       "      <td>22186</td>\n",
       "    </tr>\n",
       "  </tbody>\n",
       "</table>\n",
       "</div>"
      ],
      "text/plain": [
       "   Unnamed: 0            genre_ids     id original_language  \\\n",
       "0           0      [12, 14, 10751]  12444                en   \n",
       "1           1  [14, 12, 16, 10751]  10191                en   \n",
       "2           2        [12, 28, 878]  10138                en   \n",
       "3           3      [16, 35, 10751]    862                en   \n",
       "4           4        [28, 878, 12]  27205                en   \n",
       "\n",
       "                                 original_title  popularity release_date  \\\n",
       "0  Harry Potter and the Deathly Hallows: Part 1      33.533   2010-11-19   \n",
       "1                      How to Train Your Dragon      28.734   2010-03-26   \n",
       "2                                    Iron Man 2      28.515   2010-05-07   \n",
       "3                                     Toy Story      28.005   1995-11-22   \n",
       "4                                     Inception      27.920   2010-07-16   \n",
       "\n",
       "                                          title  vote_average  vote_count  \n",
       "0  Harry Potter and the Deathly Hallows: Part 1           7.7       10788  \n",
       "1                      How to Train Your Dragon           7.7        7610  \n",
       "2                                    Iron Man 2           6.8       12368  \n",
       "3                                     Toy Story           7.9       10174  \n",
       "4                                     Inception           8.3       22186  "
      ]
     },
     "execution_count": 6,
     "metadata": {},
     "output_type": "execute_result"
    }
   ],
   "source": [
    "tmdb_df.head()"
   ]
  },
  {
   "cell_type": "code",
   "execution_count": 7,
   "metadata": {
    "scrolled": true
   },
   "outputs": [
    {
     "data": {
      "text/html": [
       "<div>\n",
       "<style scoped>\n",
       "    .dataframe tbody tr th:only-of-type {\n",
       "        vertical-align: middle;\n",
       "    }\n",
       "\n",
       "    .dataframe tbody tr th {\n",
       "        vertical-align: top;\n",
       "    }\n",
       "\n",
       "    .dataframe thead th {\n",
       "        text-align: right;\n",
       "    }\n",
       "</style>\n",
       "<table border=\"1\" class=\"dataframe\">\n",
       "  <thead>\n",
       "    <tr style=\"text-align: right;\">\n",
       "      <th></th>\n",
       "      <th>id</th>\n",
       "      <th>release_date</th>\n",
       "      <th>movie</th>\n",
       "      <th>production_budget</th>\n",
       "      <th>domestic_gross</th>\n",
       "      <th>worldwide_gross</th>\n",
       "    </tr>\n",
       "  </thead>\n",
       "  <tbody>\n",
       "    <tr>\n",
       "      <th>0</th>\n",
       "      <td>1</td>\n",
       "      <td>Dec 18, 2009</td>\n",
       "      <td>Avatar</td>\n",
       "      <td>$425,000,000</td>\n",
       "      <td>$760,507,625</td>\n",
       "      <td>$2,776,345,279</td>\n",
       "    </tr>\n",
       "    <tr>\n",
       "      <th>1</th>\n",
       "      <td>2</td>\n",
       "      <td>May 20, 2011</td>\n",
       "      <td>Pirates of the Caribbean: On Stranger Tides</td>\n",
       "      <td>$410,600,000</td>\n",
       "      <td>$241,063,875</td>\n",
       "      <td>$1,045,663,875</td>\n",
       "    </tr>\n",
       "    <tr>\n",
       "      <th>2</th>\n",
       "      <td>3</td>\n",
       "      <td>Jun 7, 2019</td>\n",
       "      <td>Dark Phoenix</td>\n",
       "      <td>$350,000,000</td>\n",
       "      <td>$42,762,350</td>\n",
       "      <td>$149,762,350</td>\n",
       "    </tr>\n",
       "    <tr>\n",
       "      <th>3</th>\n",
       "      <td>4</td>\n",
       "      <td>May 1, 2015</td>\n",
       "      <td>Avengers: Age of Ultron</td>\n",
       "      <td>$330,600,000</td>\n",
       "      <td>$459,005,868</td>\n",
       "      <td>$1,403,013,963</td>\n",
       "    </tr>\n",
       "    <tr>\n",
       "      <th>4</th>\n",
       "      <td>5</td>\n",
       "      <td>Dec 15, 2017</td>\n",
       "      <td>Star Wars Ep. VIII: The Last Jedi</td>\n",
       "      <td>$317,000,000</td>\n",
       "      <td>$620,181,382</td>\n",
       "      <td>$1,316,721,747</td>\n",
       "    </tr>\n",
       "  </tbody>\n",
       "</table>\n",
       "</div>"
      ],
      "text/plain": [
       "   id  release_date                                        movie  \\\n",
       "0   1  Dec 18, 2009                                       Avatar   \n",
       "1   2  May 20, 2011  Pirates of the Caribbean: On Stranger Tides   \n",
       "2   3   Jun 7, 2019                                 Dark Phoenix   \n",
       "3   4   May 1, 2015                      Avengers: Age of Ultron   \n",
       "4   5  Dec 15, 2017            Star Wars Ep. VIII: The Last Jedi   \n",
       "\n",
       "  production_budget domestic_gross worldwide_gross  \n",
       "0      $425,000,000   $760,507,625  $2,776,345,279  \n",
       "1      $410,600,000   $241,063,875  $1,045,663,875  \n",
       "2      $350,000,000    $42,762,350    $149,762,350  \n",
       "3      $330,600,000   $459,005,868  $1,403,013,963  \n",
       "4      $317,000,000   $620,181,382  $1,316,721,747  "
      ]
     },
     "execution_count": 7,
     "metadata": {},
     "output_type": "execute_result"
    }
   ],
   "source": [
    "tnmoviebudget_df.head()"
   ]
  },
  {
   "cell_type": "markdown",
   "metadata": {},
   "source": [
    "After getting a glimpse of all of the data, we have the following categorical data to work with:\n",
    "\n",
    "1. Box Office Mojo\n",
    "    1. title\n",
    "    2. studio\n",
    "    3. domestic gross\n",
    "    4. foreign gross\n",
    "    5. year\n",
    "2. IMDB\n",
    "    1. movie id\n",
    "    2. primary title\n",
    "    3. original title\n",
    "    4. start year\n",
    "    5. runtime\n",
    "    6. genre\n",
    "    7. average rating\n",
    "    8. number votes\n",
    "3. Rotten Tomatoes - movie info\n",
    "    1. id\n",
    "    2. synopsis\n",
    "    3. rating\n",
    "    4. genre\n",
    "    5. director\n",
    "    6. writer\n",
    "    7. theatre date\n",
    "    8. dvd date\n",
    "    9. currency\n",
    "    10. box office\n",
    "    11. runtime\n",
    "    12. studio\n",
    "4. Rotten Tomatoes - review info\n",
    "    1. id\n",
    "    2. review\n",
    "    3. rating\n",
    "    4. fresh\n",
    "    5. critic\n",
    "    6. top critic\n",
    "    7. publisher\n",
    "    8. date\n",
    "4. TheMovieDB\n",
    "    1. Unnamed 0\n",
    "    2. genre id\n",
    "    3. id\n",
    "    4. original language\n",
    "    5. original title\n",
    "    6. popularity\n",
    "    7. release date\n",
    "    8. title\n",
    "    9. vote average\n",
    "    10. vote count\n",
    "5. The Numbers\n",
    "    1. id\n",
    "    2. release date\n",
    "    3. movie\n",
    "    4. production budget\n",
    "    5. domestic gross\n",
    "    6. worldwide gross"
   ]
  },
  {
   "cell_type": "markdown",
   "metadata": {},
   "source": [
    "From the above categorical data, we can better understand the variables we have to analyze the movie datasets. As a result, we can better formulate our questions.\n",
    "\n",
    "The first question to answer (and the most important) is \"What are the movies that have the highest return on investment?\" Without having dug into the data yet, we should be able to determine this by first finding the highest profiting movies (difference between budget and gross revenue) from datasets where we have budget and revenue available to us. Then calculate the ROI (return on investment) percentage for each of those movies by taking the profit over the budget (initial investment).\n",
    "\n",
    "Once we determine which movies provide the highest ROI (above a percentage threshold), then we can  analyze those values in the organized set for both the average/range of production budget values, as well as analyze some matching characteristics within that range. Therefore our second question to answer will be \"What is the average production budget the company will have to spend on a movie?\" The third question will be \"What are the matching charateristics between the movies with the highest return on investment?\" Based on the categorical data we have to work with, we can look at genre, and runtime as they pertain to ROI. \n",
    "\n",
    "We also have data in the rotten tomatoes datasets that can inform our recommendation. These datasets do not have movie titles unfortunately, so we will need to infer the success of these movies using the average viewer ratings of the movies. We can then analyze the categorical data from the higher end of those ratings to make a soft recommendation on what the best rating and movie director is for the success of a movie."
   ]
  },
  {
   "cell_type": "markdown",
   "metadata": {},
   "source": [
    "We will start with determining the highest profiting movie by taking the difference between the production budget and domestic gross from the \"The Numbers\" dataset.\n",
    "\n",
    "First we clean the dataframe by converting the budget, and gross columns from strings to floats. Take out the commas, remove the $ sign and convert the object to float"
   ]
  },
  {
   "cell_type": "code",
   "execution_count": 8,
   "metadata": {
    "scrolled": true
   },
   "outputs": [],
   "source": [
    "# remove commas\n",
    "tnmoviebudget_df = tnmoviebudget_df.replace(',','', regex=True)\n",
    "tnmoviebudget_df = tnmoviebudget_df.set_index('movie')\n",
    "\n",
    "# take out $ sign and convert numbers from string to float\n",
    "tnmoviebudget_df['production_budget'] = tnmoviebudget_df['production_budget'].str[1:].astype(float)\n",
    "tnmoviebudget_df['domestic_gross'] = tnmoviebudget_df['domestic_gross'].str[1:].astype(float)\n",
    "tnmoviebudget_df['worldwide_gross'] = tnmoviebudget_df['worldwide_gross'].str[1:].astype(float)"
   ]
  },
  {
   "cell_type": "markdown",
   "metadata": {},
   "source": [
    "Next we will calculate the difference between the worldwide gross and budget, which should give us an idea of profit for the movies. Then we will drop any rows with negative values for profit."
   ]
  },
  {
   "cell_type": "code",
   "execution_count": 9,
   "metadata": {},
   "outputs": [],
   "source": [
    "# calculate difference between gross and production budget\n",
    "tnmoviebudget_df['Profit'] = tnmoviebudget_df['worldwide_gross'] - tnmoviebudget_df['production_budget']\n",
    "\n",
    "# any negative values converted to zero\n",
    "tnmoviebudget_df[tnmoviebudget_df['Profit'] < 0] = 0"
   ]
  },
  {
   "cell_type": "code",
   "execution_count": 10,
   "metadata": {},
   "outputs": [],
   "source": [
    "# drop all zero values\n",
    "tnmoviebudget_df = tnmoviebudget_df.loc[tnmoviebudget_df['Profit'] != 0]"
   ]
  },
  {
   "cell_type": "code",
   "execution_count": 11,
   "metadata": {},
   "outputs": [],
   "source": [
    "# sort the values by the highest difference between worldwide gross and production budget\n",
    "tnmovieBudget_df = tnmoviebudget_df.sort_values(by=['Profit'], ascending=False, inplace = True)"
   ]
  },
  {
   "cell_type": "code",
   "execution_count": 12,
   "metadata": {},
   "outputs": [
    {
     "data": {
      "text/plain": [
       "3657"
      ]
     },
     "execution_count": 12,
     "metadata": {},
     "output_type": "execute_result"
    }
   ],
   "source": [
    "# How many movies we have in the dataframe\n",
    "# notice how this compares to the count of movies in adjusted dataframes as we continue with this notebook\n",
    "len(tnmoviebudget_df.index)"
   ]
  },
  {
   "cell_type": "code",
   "execution_count": 13,
   "metadata": {},
   "outputs": [
    {
     "data": {
      "text/html": [
       "<div>\n",
       "<style scoped>\n",
       "    .dataframe tbody tr th:only-of-type {\n",
       "        vertical-align: middle;\n",
       "    }\n",
       "\n",
       "    .dataframe tbody tr th {\n",
       "        vertical-align: top;\n",
       "    }\n",
       "\n",
       "    .dataframe thead th {\n",
       "        text-align: right;\n",
       "    }\n",
       "</style>\n",
       "<table border=\"1\" class=\"dataframe\">\n",
       "  <thead>\n",
       "    <tr style=\"text-align: right;\">\n",
       "      <th></th>\n",
       "      <th>id</th>\n",
       "      <th>release_date</th>\n",
       "      <th>production_budget</th>\n",
       "      <th>domestic_gross</th>\n",
       "      <th>worldwide_gross</th>\n",
       "      <th>Profit</th>\n",
       "    </tr>\n",
       "    <tr>\n",
       "      <th>movie</th>\n",
       "      <th></th>\n",
       "      <th></th>\n",
       "      <th></th>\n",
       "      <th></th>\n",
       "      <th></th>\n",
       "      <th></th>\n",
       "    </tr>\n",
       "  </thead>\n",
       "  <tbody>\n",
       "    <tr>\n",
       "      <th>Avatar</th>\n",
       "      <td>1</td>\n",
       "      <td>Dec 18 2009</td>\n",
       "      <td>425000000.0</td>\n",
       "      <td>760507625.0</td>\n",
       "      <td>2.776345e+09</td>\n",
       "      <td>2.351345e+09</td>\n",
       "    </tr>\n",
       "    <tr>\n",
       "      <th>Titanic</th>\n",
       "      <td>43</td>\n",
       "      <td>Dec 19 1997</td>\n",
       "      <td>200000000.0</td>\n",
       "      <td>659363944.0</td>\n",
       "      <td>2.208208e+09</td>\n",
       "      <td>2.008208e+09</td>\n",
       "    </tr>\n",
       "    <tr>\n",
       "      <th>Avengers: Infinity War</th>\n",
       "      <td>7</td>\n",
       "      <td>Apr 27 2018</td>\n",
       "      <td>300000000.0</td>\n",
       "      <td>678815482.0</td>\n",
       "      <td>2.048134e+09</td>\n",
       "      <td>1.748134e+09</td>\n",
       "    </tr>\n",
       "    <tr>\n",
       "      <th>Star Wars Ep. VII: The Force Awakens</th>\n",
       "      <td>6</td>\n",
       "      <td>Dec 18 2015</td>\n",
       "      <td>306000000.0</td>\n",
       "      <td>936662225.0</td>\n",
       "      <td>2.053311e+09</td>\n",
       "      <td>1.747311e+09</td>\n",
       "    </tr>\n",
       "    <tr>\n",
       "      <th>Jurassic World</th>\n",
       "      <td>34</td>\n",
       "      <td>Jun 12 2015</td>\n",
       "      <td>215000000.0</td>\n",
       "      <td>652270625.0</td>\n",
       "      <td>1.648855e+09</td>\n",
       "      <td>1.433855e+09</td>\n",
       "    </tr>\n",
       "  </tbody>\n",
       "</table>\n",
       "</div>"
      ],
      "text/plain": [
       "                                      id release_date  production_budget  \\\n",
       "movie                                                                      \n",
       "Avatar                                 1  Dec 18 2009        425000000.0   \n",
       "Titanic                               43  Dec 19 1997        200000000.0   \n",
       "Avengers: Infinity War                 7  Apr 27 2018        300000000.0   \n",
       "Star Wars Ep. VII: The Force Awakens   6  Dec 18 2015        306000000.0   \n",
       "Jurassic World                        34  Jun 12 2015        215000000.0   \n",
       "\n",
       "                                      domestic_gross  worldwide_gross  \\\n",
       "movie                                                                   \n",
       "Avatar                                   760507625.0     2.776345e+09   \n",
       "Titanic                                  659363944.0     2.208208e+09   \n",
       "Avengers: Infinity War                   678815482.0     2.048134e+09   \n",
       "Star Wars Ep. VII: The Force Awakens     936662225.0     2.053311e+09   \n",
       "Jurassic World                           652270625.0     1.648855e+09   \n",
       "\n",
       "                                            Profit  \n",
       "movie                                               \n",
       "Avatar                                2.351345e+09  \n",
       "Titanic                               2.008208e+09  \n",
       "Avengers: Infinity War                1.748134e+09  \n",
       "Star Wars Ep. VII: The Force Awakens  1.747311e+09  \n",
       "Jurassic World                        1.433855e+09  "
      ]
     },
     "execution_count": 13,
     "metadata": {},
     "output_type": "execute_result"
    }
   ],
   "source": [
    "tnmoviebudget_df.head()"
   ]
  },
  {
   "cell_type": "markdown",
   "metadata": {},
   "source": [
    "Now we will take a look at the highest return on investment for the movies"
   ]
  },
  {
   "cell_type": "code",
   "execution_count": 14,
   "metadata": {},
   "outputs": [],
   "source": [
    "# calculate the return on investment using the difference between the domestic gross and the prodbudget\n",
    "tnmoviebudget_df['ROI'] = ( tnmoviebudget_df['Profit'] / tnmoviebudget_df['production_budget'] )*100\n",
    "tnmoviebudget_df['ROI'] = tnmoviebudget_df['ROI'].astype(int)\n",
    "tnmovieBudget_df = tnmoviebudget_df.sort_values(by=['ROI'], ascending=False, inplace = True)"
   ]
  },
  {
   "cell_type": "code",
   "execution_count": 15,
   "metadata": {
    "scrolled": true
   },
   "outputs": [
    {
     "data": {
      "text/html": [
       "<div>\n",
       "<style scoped>\n",
       "    .dataframe tbody tr th:only-of-type {\n",
       "        vertical-align: middle;\n",
       "    }\n",
       "\n",
       "    .dataframe tbody tr th {\n",
       "        vertical-align: top;\n",
       "    }\n",
       "\n",
       "    .dataframe thead th {\n",
       "        text-align: right;\n",
       "    }\n",
       "</style>\n",
       "<table border=\"1\" class=\"dataframe\">\n",
       "  <thead>\n",
       "    <tr style=\"text-align: right;\">\n",
       "      <th></th>\n",
       "      <th>id</th>\n",
       "      <th>release_date</th>\n",
       "      <th>production_budget</th>\n",
       "      <th>domestic_gross</th>\n",
       "      <th>worldwide_gross</th>\n",
       "      <th>Profit</th>\n",
       "      <th>ROI</th>\n",
       "    </tr>\n",
       "    <tr>\n",
       "      <th>movie</th>\n",
       "      <th></th>\n",
       "      <th></th>\n",
       "      <th></th>\n",
       "      <th></th>\n",
       "      <th></th>\n",
       "      <th></th>\n",
       "      <th></th>\n",
       "    </tr>\n",
       "  </thead>\n",
       "  <tbody>\n",
       "    <tr>\n",
       "      <th>Deep Throat</th>\n",
       "      <td>46</td>\n",
       "      <td>Jun 30 1972</td>\n",
       "      <td>25000.0</td>\n",
       "      <td>45000000.0</td>\n",
       "      <td>45000000.0</td>\n",
       "      <td>44975000.0</td>\n",
       "      <td>179900</td>\n",
       "    </tr>\n",
       "    <tr>\n",
       "      <th>Mad Max</th>\n",
       "      <td>14</td>\n",
       "      <td>Mar 21 1980</td>\n",
       "      <td>200000.0</td>\n",
       "      <td>8750000.0</td>\n",
       "      <td>99750000.0</td>\n",
       "      <td>99550000.0</td>\n",
       "      <td>49775</td>\n",
       "    </tr>\n",
       "    <tr>\n",
       "      <th>Paranormal Activity</th>\n",
       "      <td>93</td>\n",
       "      <td>Sep 25 2009</td>\n",
       "      <td>450000.0</td>\n",
       "      <td>107918810.0</td>\n",
       "      <td>194183034.0</td>\n",
       "      <td>193733034.0</td>\n",
       "      <td>43051</td>\n",
       "    </tr>\n",
       "    <tr>\n",
       "      <th>The Gallows</th>\n",
       "      <td>80</td>\n",
       "      <td>Jul 10 2015</td>\n",
       "      <td>100000.0</td>\n",
       "      <td>22764410.0</td>\n",
       "      <td>41656474.0</td>\n",
       "      <td>41556474.0</td>\n",
       "      <td>41556</td>\n",
       "    </tr>\n",
       "    <tr>\n",
       "      <th>The Blair Witch Project</th>\n",
       "      <td>7</td>\n",
       "      <td>Jul 14 1999</td>\n",
       "      <td>600000.0</td>\n",
       "      <td>140539099.0</td>\n",
       "      <td>248300000.0</td>\n",
       "      <td>247700000.0</td>\n",
       "      <td>41283</td>\n",
       "    </tr>\n",
       "    <tr>\n",
       "      <th>Super Size Me</th>\n",
       "      <td>10</td>\n",
       "      <td>May 7 2004</td>\n",
       "      <td>65000.0</td>\n",
       "      <td>11529368.0</td>\n",
       "      <td>22233808.0</td>\n",
       "      <td>22168808.0</td>\n",
       "      <td>34105</td>\n",
       "    </tr>\n",
       "    <tr>\n",
       "      <th>Bambi</th>\n",
       "      <td>47</td>\n",
       "      <td>Aug 13 1942</td>\n",
       "      <td>858000.0</td>\n",
       "      <td>102797000.0</td>\n",
       "      <td>268000000.0</td>\n",
       "      <td>267142000.0</td>\n",
       "      <td>31135</td>\n",
       "    </tr>\n",
       "    <tr>\n",
       "      <th>El Mariachi</th>\n",
       "      <td>74</td>\n",
       "      <td>Feb 26 1993</td>\n",
       "      <td>7000.0</td>\n",
       "      <td>2040920.0</td>\n",
       "      <td>2041928.0</td>\n",
       "      <td>2034928.0</td>\n",
       "      <td>29070</td>\n",
       "    </tr>\n",
       "    <tr>\n",
       "      <th>Night of the Living Dead</th>\n",
       "      <td>77</td>\n",
       "      <td>Oct 1 1968</td>\n",
       "      <td>114000.0</td>\n",
       "      <td>12087064.0</td>\n",
       "      <td>30087064.0</td>\n",
       "      <td>29973064.0</td>\n",
       "      <td>26292</td>\n",
       "    </tr>\n",
       "    <tr>\n",
       "      <th>Rocky</th>\n",
       "      <td>11</td>\n",
       "      <td>Nov 21 1976</td>\n",
       "      <td>1000000.0</td>\n",
       "      <td>117235147.0</td>\n",
       "      <td>225000000.0</td>\n",
       "      <td>224000000.0</td>\n",
       "      <td>22400</td>\n",
       "    </tr>\n",
       "  </tbody>\n",
       "</table>\n",
       "</div>"
      ],
      "text/plain": [
       "                          id release_date  production_budget  domestic_gross  \\\n",
       "movie                                                                          \n",
       "Deep Throat               46  Jun 30 1972            25000.0      45000000.0   \n",
       "Mad Max                   14  Mar 21 1980           200000.0       8750000.0   \n",
       "Paranormal Activity       93  Sep 25 2009           450000.0     107918810.0   \n",
       "The Gallows               80  Jul 10 2015           100000.0      22764410.0   \n",
       "The Blair Witch Project    7  Jul 14 1999           600000.0     140539099.0   \n",
       "Super Size Me             10   May 7 2004            65000.0      11529368.0   \n",
       "Bambi                     47  Aug 13 1942           858000.0     102797000.0   \n",
       "El Mariachi               74  Feb 26 1993             7000.0       2040920.0   \n",
       "Night of the Living Dead  77   Oct 1 1968           114000.0      12087064.0   \n",
       "Rocky                     11  Nov 21 1976          1000000.0     117235147.0   \n",
       "\n",
       "                          worldwide_gross       Profit     ROI  \n",
       "movie                                                           \n",
       "Deep Throat                    45000000.0   44975000.0  179900  \n",
       "Mad Max                        99750000.0   99550000.0   49775  \n",
       "Paranormal Activity           194183034.0  193733034.0   43051  \n",
       "The Gallows                    41656474.0   41556474.0   41556  \n",
       "The Blair Witch Project       248300000.0  247700000.0   41283  \n",
       "Super Size Me                  22233808.0   22168808.0   34105  \n",
       "Bambi                         268000000.0  267142000.0   31135  \n",
       "El Mariachi                     2041928.0    2034928.0   29070  \n",
       "Night of the Living Dead       30087064.0   29973064.0   26292  \n",
       "Rocky                         225000000.0  224000000.0   22400  "
      ]
     },
     "execution_count": 15,
     "metadata": {},
     "output_type": "execute_result"
    }
   ],
   "source": [
    "tnmoviebudget_df.head(10)"
   ]
  },
  {
   "cell_type": "markdown",
   "metadata": {},
   "source": [
    "The first movie in the list is an anomaly as Deep throat was a start of a popularization of a new movie genre. So we can remove that right away"
   ]
  },
  {
   "cell_type": "code",
   "execution_count": 16,
   "metadata": {},
   "outputs": [],
   "source": [
    "# removing the first row\n",
    "tnmoviebudget_df = tnmoviebudget_df.iloc[1:,:]"
   ]
  },
  {
   "cell_type": "code",
   "execution_count": 17,
   "metadata": {},
   "outputs": [],
   "source": [
    "# Reduce the scale of the profit, worldwid gross, domestic gross, and production_budget columns by 1 million\n",
    "tnmoviebudget2_df = tnmoviebudget_df\n",
    "tnmoviebudget2_df['Profit'] = tnmoviebudget_df['Profit'] / 1000000\n",
    "tnmoviebudget2_df['production_budget'] = tnmoviebudget_df['production_budget'] / 1000000\n",
    "tnmoviebudget2_df['domestic_gross'] = tnmoviebudget_df['domestic_gross'] / 1000000\n",
    "tnmoviebudget2_df['worldwide_gross'] = tnmoviebudget_df['worldwide_gross'] / 1000000"
   ]
  },
  {
   "cell_type": "markdown",
   "metadata": {},
   "source": [
    "Lets take a quick look at ROI vs Profit"
   ]
  },
  {
   "cell_type": "code",
   "execution_count": 18,
   "metadata": {
    "scrolled": true
   },
   "outputs": [
    {
     "data": {
      "image/png": "[encoded data removed]",
      "text/plain": [
       "<Figure size 432x288 with 1 Axes>"
      ]
     },
     "metadata": {},
     "output_type": "display_data"
    }
   ],
   "source": [
    "ax = sns.scatterplot(x=tnmoviebudget2_df['ROI'], y=tnmoviebudget2_df['Profit'])\n",
    "ax.set(xlabel=\"ROI (%)\", ylabel=\"Profit (million $)\", title=\"ROI vs Profit\");"
   ]
  },
  {
   "cell_type": "markdown",
   "metadata": {},
   "source": [
    "Based on the scatter plot above we can see that most of the movies we now have in the dataset fall closer to the 0,0 mark which means the gross of the movie was the same as the budget. Since we are looking for the highest rate of return we can just take all of movies that fall above 200% ROI and analyze those."
   ]
  },
  {
   "cell_type": "code",
   "execution_count": 19,
   "metadata": {},
   "outputs": [],
   "source": [
    "# Remove all movies that fall below 200 ROI\n",
    "tnmoviebudgetROI_df = tnmoviebudget2_df.loc[tnmoviebudget_df['ROI'] > 200]\n"
   ]
  },
  {
   "cell_type": "code",
   "execution_count": 20,
   "metadata": {
    "scrolled": false
   },
   "outputs": [
    {
     "data": {
      "text/plain": [
       "1846"
      ]
     },
     "execution_count": 20,
     "metadata": {},
     "output_type": "execute_result"
    },
    {
     "data": {
      "image/png": "[encoded data removed]",
      "text/plain": [
       "<Figure size 432x288 with 1 Axes>"
      ]
     },
     "metadata": {},
     "output_type": "display_data"
    }
   ],
   "source": [
    "# suppress c argument error for color\n",
    "from matplotlib.axes._axes import _log as matplotlib_axes_logger\n",
    "matplotlib_axes_logger.setLevel('ERROR')\n",
    "# plot roi vs profit\n",
    "ax = sns.scatterplot(x=tnmoviebudgetROI_df['ROI'], y=tnmoviebudgetROI_df['Profit'])\n",
    "ax.set(xlabel=\"ROI (%)\", ylabel=\"Profit (million $)\", title=\"ROI vs Profit\");\n",
    "\n",
    "# print the amount of movies we have to work with\n",
    "len(tnmoviebudgetROI_df.index)"
   ]
  },
  {
   "cell_type": "markdown",
   "metadata": {},
   "source": [
    "The plot above looks the same, but the points are so close together that it is not clear that we have removed any movies. But from printing the amount of movies we have in the dataframe, it is clear that there are about half the amount of movies than what we started with.\n",
    "\n",
    "Lets take a look at how ROI compares with profit and budget"
   ]
  },
  {
   "cell_type": "code",
   "execution_count": 21,
   "metadata": {
    "scrolled": false
   },
   "outputs": [
    {
     "data": {
      "image/png": "[encoded data removed]",
      "text/plain": [
       "<Figure size 432x288 with 1 Axes>"
      ]
     },
     "metadata": {},
     "output_type": "display_data"
    }
   ],
   "source": [
    "ax = sns.scatterplot(x=tnmoviebudgetROI_df['ROI'], y=tnmoviebudgetROI_df['production_budget'])\n",
    "ax.set(xlabel=\"ROI (%)\", ylabel=\"Production Budget (million $)\", title=\"ROI vs Production Budget\");"
   ]
  },
  {
   "cell_type": "markdown",
   "metadata": {},
   "source": [
    "Looks like the greater the production budget, the far less ROI there is in the movie. That doesnt necessarily mean the studio didnt make money, as ROI is calculated as a percentage. But we should probably take the midrange of movies as I dont see a new Microsoft pursuing something at the high end of the spectrum, but they also probably have enough money that they do not want to spend at the low end of the spectrum either."
   ]
  },
  {
   "cell_type": "code",
   "execution_count": 22,
   "metadata": {
    "scrolled": true
   },
   "outputs": [
    {
     "data": {
      "image/png": "[encoded data removed]",
      "text/plain": [
       "<Figure size 432x288 with 1 Axes>"
      ]
     },
     "metadata": {},
     "output_type": "display_data"
    }
   ],
   "source": [
    "ax = sns.scatterplot(x=tnmoviebudgetROI_df['production_budget'], y=tnmoviebudgetROI_df['Profit'])\n",
    "ax.set(xlabel=\"Production Budget (million $)\", ylabel=\"Profit (million $)\", title=\"ROI vs Profit\");"
   ]
  },
  {
   "cell_type": "markdown",
   "metadata": {},
   "source": [
    "Lets also get a look at where most of these fall within these variables as a standard budget that it spent, and the average profit that is earned from that spending category"
   ]
  },
  {
   "cell_type": "code",
   "execution_count": 23,
   "metadata": {
    "scrolled": false
   },
   "outputs": [
    {
     "data": {
      "image/png": "[encoded data removed]",
      "text/plain": [
       "<Figure size 432x288 with 1 Axes>"
      ]
     },
     "metadata": {},
     "output_type": "display_data"
    }
   ],
   "source": [
    "ax = sns.boxplot(y=tnmoviebudgetROI_df['production_budget'], showfliers = False);\n",
    "ax.set(xlabel='Movies', ylabel=\"Production Budget (million $)\", title=\"Movie Production Budget\");"
   ]
  },
  {
   "cell_type": "code",
   "execution_count": 24,
   "metadata": {
    "scrolled": false
   },
   "outputs": [
    {
     "data": {
      "text/plain": [
       "count    1846.000000\n",
       "mean       34.491125\n",
       "std        48.799246\n",
       "min         0.001100\n",
       "25%         5.000000\n",
       "50%        15.000000\n",
       "75%        40.000000\n",
       "max       425.000000\n",
       "Name: production_budget, dtype: float64"
      ]
     },
     "execution_count": 24,
     "metadata": {},
     "output_type": "execute_result"
    }
   ],
   "source": [
    "tnmoviebudgetROI_df['production_budget'].describe()"
   ]
  },
  {
   "cell_type": "markdown",
   "metadata": {},
   "source": [
    "So the mean (average) production budget for movies that receive over 200% ROI is around 35,000,000 dollars. The cost of the majority of these movies ranges from the 25% quartile at 5,000,000 dollars to the 75% quartile at 40,000,000 dollars. We do not know how much Microsoft would like to spend, but a good recommendation would be to suggest starting in the average quartile range from 5 million to 40 million dollars. Given that, we should then isolate these movies to analyze going forward."
   ]
  },
  {
   "cell_type": "code",
   "execution_count": 25,
   "metadata": {
    "scrolled": false
   },
   "outputs": [
    {
     "data": {
      "text/html": [
       "<div>\n",
       "<style scoped>\n",
       "    .dataframe tbody tr th:only-of-type {\n",
       "        vertical-align: middle;\n",
       "    }\n",
       "\n",
       "    .dataframe tbody tr th {\n",
       "        vertical-align: top;\n",
       "    }\n",
       "\n",
       "    .dataframe thead th {\n",
       "        text-align: right;\n",
       "    }\n",
       "</style>\n",
       "<table border=\"1\" class=\"dataframe\">\n",
       "  <thead>\n",
       "    <tr style=\"text-align: right;\">\n",
       "      <th></th>\n",
       "      <th>id</th>\n",
       "      <th>release_date</th>\n",
       "      <th>production_budget</th>\n",
       "      <th>domestic_gross</th>\n",
       "      <th>worldwide_gross</th>\n",
       "      <th>Profit</th>\n",
       "      <th>ROI</th>\n",
       "    </tr>\n",
       "    <tr>\n",
       "      <th>movie</th>\n",
       "      <th></th>\n",
       "      <th></th>\n",
       "      <th></th>\n",
       "      <th></th>\n",
       "      <th></th>\n",
       "      <th></th>\n",
       "      <th></th>\n",
       "    </tr>\n",
       "  </thead>\n",
       "  <tbody>\n",
       "    <tr>\n",
       "      <th>ET: The Extra-Terrestrial</th>\n",
       "      <td>26</td>\n",
       "      <td>Jun 11 1982</td>\n",
       "      <td>10.50</td>\n",
       "      <td>435.110554</td>\n",
       "      <td>792.965326</td>\n",
       "      <td>782.465326</td>\n",
       "      <td>7452</td>\n",
       "    </tr>\n",
       "    <tr>\n",
       "      <th>Star Wars Ep. IV: A New Hope</th>\n",
       "      <td>65</td>\n",
       "      <td>May 25 1977</td>\n",
       "      <td>11.00</td>\n",
       "      <td>460.998007</td>\n",
       "      <td>786.598007</td>\n",
       "      <td>775.598007</td>\n",
       "      <td>7050</td>\n",
       "    </tr>\n",
       "    <tr>\n",
       "      <th>Grease</th>\n",
       "      <td>13</td>\n",
       "      <td>Jun 16 1978</td>\n",
       "      <td>6.00</td>\n",
       "      <td>181.813770</td>\n",
       "      <td>387.510179</td>\n",
       "      <td>381.510179</td>\n",
       "      <td>6358</td>\n",
       "    </tr>\n",
       "    <tr>\n",
       "      <th>Les Intouchables</th>\n",
       "      <td>18</td>\n",
       "      <td>May 25 2012</td>\n",
       "      <td>10.80</td>\n",
       "      <td>13.182281</td>\n",
       "      <td>484.873045</td>\n",
       "      <td>474.073045</td>\n",
       "      <td>4389</td>\n",
       "    </tr>\n",
       "    <tr>\n",
       "      <th>Annabelle</th>\n",
       "      <td>84</td>\n",
       "      <td>Oct 3 2014</td>\n",
       "      <td>6.50</td>\n",
       "      <td>84.273813</td>\n",
       "      <td>256.862920</td>\n",
       "      <td>250.362920</td>\n",
       "      <td>3851</td>\n",
       "    </tr>\n",
       "    <tr>\n",
       "      <th>...</th>\n",
       "      <td>...</td>\n",
       "      <td>...</td>\n",
       "      <td>...</td>\n",
       "      <td>...</td>\n",
       "      <td>...</td>\n",
       "      <td>...</td>\n",
       "      <td>...</td>\n",
       "    </tr>\n",
       "    <tr>\n",
       "      <th>Why Did I Get Married Too?</th>\n",
       "      <td>16</td>\n",
       "      <td>Apr 2 2010</td>\n",
       "      <td>20.00</td>\n",
       "      <td>60.095852</td>\n",
       "      <td>60.831067</td>\n",
       "      <td>40.831067</td>\n",
       "      <td>204</td>\n",
       "    </tr>\n",
       "    <tr>\n",
       "      <th>Kabhi Alvida Naa Kehna</th>\n",
       "      <td>20</td>\n",
       "      <td>Aug 11 2006</td>\n",
       "      <td>10.75</td>\n",
       "      <td>3.275443</td>\n",
       "      <td>32.575443</td>\n",
       "      <td>21.825443</td>\n",
       "      <td>203</td>\n",
       "    </tr>\n",
       "    <tr>\n",
       "      <th>Daddy Day Camp</th>\n",
       "      <td>39</td>\n",
       "      <td>Aug 8 2007</td>\n",
       "      <td>6.00</td>\n",
       "      <td>13.235267</td>\n",
       "      <td>18.209872</td>\n",
       "      <td>12.209872</td>\n",
       "      <td>203</td>\n",
       "    </tr>\n",
       "    <tr>\n",
       "      <th>Unplanned</th>\n",
       "      <td>33</td>\n",
       "      <td>Mar 29 2019</td>\n",
       "      <td>6.00</td>\n",
       "      <td>18.107621</td>\n",
       "      <td>18.107621</td>\n",
       "      <td>12.107621</td>\n",
       "      <td>201</td>\n",
       "    </tr>\n",
       "    <tr>\n",
       "      <th>Jane Austen's Mafia</th>\n",
       "      <td>6</td>\n",
       "      <td>Jul 24 1998</td>\n",
       "      <td>10.00</td>\n",
       "      <td>19.843795</td>\n",
       "      <td>30.143795</td>\n",
       "      <td>20.143795</td>\n",
       "      <td>201</td>\n",
       "    </tr>\n",
       "  </tbody>\n",
       "</table>\n",
       "<p>834 rows × 7 columns</p>\n",
       "</div>"
      ],
      "text/plain": [
       "                              id release_date  production_budget  \\\n",
       "movie                                                              \n",
       "ET: The Extra-Terrestrial     26  Jun 11 1982              10.50   \n",
       "Star Wars Ep. IV: A New Hope  65  May 25 1977              11.00   \n",
       "Grease                        13  Jun 16 1978               6.00   \n",
       "Les Intouchables              18  May 25 2012              10.80   \n",
       "Annabelle                     84   Oct 3 2014               6.50   \n",
       "...                           ..          ...                ...   \n",
       "Why Did I Get Married Too?    16   Apr 2 2010              20.00   \n",
       "Kabhi Alvida Naa Kehna        20  Aug 11 2006              10.75   \n",
       "Daddy Day Camp                39   Aug 8 2007               6.00   \n",
       "Unplanned                     33  Mar 29 2019               6.00   \n",
       "Jane Austen's Mafia            6  Jul 24 1998              10.00   \n",
       "\n",
       "                              domestic_gross  worldwide_gross      Profit  \\\n",
       "movie                                                                       \n",
       "ET: The Extra-Terrestrial         435.110554       792.965326  782.465326   \n",
       "Star Wars Ep. IV: A New Hope      460.998007       786.598007  775.598007   \n",
       "Grease                            181.813770       387.510179  381.510179   \n",
       "Les Intouchables                   13.182281       484.873045  474.073045   \n",
       "Annabelle                          84.273813       256.862920  250.362920   \n",
       "...                                      ...              ...         ...   \n",
       "Why Did I Get Married Too?         60.095852        60.831067   40.831067   \n",
       "Kabhi Alvida Naa Kehna              3.275443        32.575443   21.825443   \n",
       "Daddy Day Camp                     13.235267        18.209872   12.209872   \n",
       "Unplanned                          18.107621        18.107621   12.107621   \n",
       "Jane Austen's Mafia                19.843795        30.143795   20.143795   \n",
       "\n",
       "                               ROI  \n",
       "movie                               \n",
       "ET: The Extra-Terrestrial     7452  \n",
       "Star Wars Ep. IV: A New Hope  7050  \n",
       "Grease                        6358  \n",
       "Les Intouchables              4389  \n",
       "Annabelle                     3851  \n",
       "...                            ...  \n",
       "Why Did I Get Married Too?     204  \n",
       "Kabhi Alvida Naa Kehna         203  \n",
       "Daddy Day Camp                 203  \n",
       "Unplanned                      201  \n",
       "Jane Austen's Mafia            201  \n",
       "\n",
       "[834 rows x 7 columns]"
      ]
     },
     "execution_count": 25,
     "metadata": {},
     "output_type": "execute_result"
    }
   ],
   "source": [
    "tnmoviebudgetROI2_df = tnmoviebudgetROI_df[tnmoviebudgetROI_df['production_budget'] > 5]\n",
    "tnmoviebudgetROI2_df = tnmoviebudgetROI2_df[tnmoviebudgetROI2_df['production_budget'] < 40]\n",
    "tnmoviebudgetROI2_df"
   ]
  },
  {
   "cell_type": "code",
   "execution_count": 26,
   "metadata": {},
   "outputs": [
    {
     "data": {
      "text/plain": [
       "834"
      ]
     },
     "execution_count": 26,
     "metadata": {},
     "output_type": "execute_result"
    },
    {
     "data": {
      "image/png": "[encoded data removed]",
      "text/plain": [
       "<Figure size 432x288 with 1 Axes>"
      ]
     },
     "metadata": {},
     "output_type": "display_data"
    }
   ],
   "source": [
    "# plot roi vs profit\n",
    "ax = sns.scatterplot(x=tnmoviebudgetROI2_df['ROI'], y=tnmoviebudgetROI2_df['Profit'])\n",
    "ax.set(xlabel=\"ROI (%)\", ylabel=\"Profit (million $)\", title=\"ROI vs Profit\");\n",
    "\n",
    "# print the amount of movies we have to work with\n",
    "len(tnmoviebudgetROI2_df.index)"
   ]
  },
  {
   "cell_type": "code",
   "execution_count": 27,
   "metadata": {},
   "outputs": [
    {
     "data": {
      "image/png": "[encoded data removed]",
      "text/plain": [
       "<Figure size 432x288 with 1 Axes>"
      ]
     },
     "metadata": {},
     "output_type": "display_data"
    }
   ],
   "source": [
    "ax = sns.scatterplot(x=tnmoviebudgetROI2_df['ROI'], y=tnmoviebudgetROI2_df['production_budget'])\n",
    "ax.set(xlabel=\"ROI (%)\", ylabel=\"Production Budget (million $)\", title=\"ROI vs Production Budget\");"
   ]
  },
  {
   "cell_type": "markdown",
   "metadata": {},
   "source": [
    "Lets take a look at how much Microsoft can make with this range of movies"
   ]
  },
  {
   "cell_type": "code",
   "execution_count": 46,
   "metadata": {
    "scrolled": false
   },
   "outputs": [
    {
     "data": {
      "image/png": "[encoded data removed]",
      "text/plain": [
       "<Figure size 432x288 with 1 Axes>"
      ]
     },
     "metadata": {},
     "output_type": "display_data"
    }
   ],
   "source": [
    "ax = sns.boxplot(y=tnmoviebudgetROI2_df['Profit'], showfliers = False);\n",
    "ax.set(xlabel='Profit', ylabel=\"Production Budget (million $)\", title=\"Movie Profit\");"
   ]
  },
  {
   "cell_type": "code",
   "execution_count": 29,
   "metadata": {
    "scrolled": true
   },
   "outputs": [
    {
     "data": {
      "text/plain": [
       "count    834.000000\n",
       "mean     105.016908\n",
       "std       98.287702\n",
       "min       12.107621\n",
       "25%       44.140602\n",
       "50%       73.393071\n",
       "75%      130.324451\n",
       "max      782.465326\n",
       "Name: Profit, dtype: float64"
      ]
     },
     "execution_count": 29,
     "metadata": {},
     "output_type": "execute_result"
    }
   ],
   "source": [
    "tnmoviebudgetROI2_df['Profit'].describe()"
   ]
  },
  {
   "cell_type": "markdown",
   "metadata": {},
   "source": [
    "Looks like with these recommendations they can make anywhere from 12,000,000 to 260,000,000 dollars in profit."
   ]
  },
  {
   "cell_type": "markdown",
   "metadata": {},
   "source": [
    "Now that we have determined the movies to use, we will analyze their characteristics to make recommendations. We will need to combine the datasets in order to relate the data to one another. For the genre and the runtime we can use the IMDB dataset, for the director we can use the Rotten tomatoes movie info dataset, and for the rating we can use the Rotten tomatoes review info dataset.\n",
    "\n",
    "First we will take the tnmovie dataset that we have been working with and find those equivalent movies in the IMDB datset to use as reference."
   ]
  },
  {
   "cell_type": "code",
   "execution_count": 30,
   "metadata": {
    "scrolled": true
   },
   "outputs": [
    {
     "data": {
      "text/html": [
       "<div>\n",
       "<style scoped>\n",
       "    .dataframe tbody tr th:only-of-type {\n",
       "        vertical-align: middle;\n",
       "    }\n",
       "\n",
       "    .dataframe tbody tr th {\n",
       "        vertical-align: top;\n",
       "    }\n",
       "\n",
       "    .dataframe thead th {\n",
       "        text-align: right;\n",
       "    }\n",
       "</style>\n",
       "<table border=\"1\" class=\"dataframe\">\n",
       "  <thead>\n",
       "    <tr style=\"text-align: right;\">\n",
       "      <th></th>\n",
       "      <th>movie_id</th>\n",
       "      <th>primary_title</th>\n",
       "      <th>start_year</th>\n",
       "      <th>runtime_minutes</th>\n",
       "      <th>genres</th>\n",
       "      <th>averagerating</th>\n",
       "      <th>numvotes</th>\n",
       "    </tr>\n",
       "    <tr>\n",
       "      <th>original_title</th>\n",
       "      <th></th>\n",
       "      <th></th>\n",
       "      <th></th>\n",
       "      <th></th>\n",
       "      <th></th>\n",
       "      <th></th>\n",
       "      <th></th>\n",
       "    </tr>\n",
       "  </thead>\n",
       "  <tbody>\n",
       "    <tr>\n",
       "      <th>Sunghursh</th>\n",
       "      <td>tt0063540</td>\n",
       "      <td>Sunghursh</td>\n",
       "      <td>2013</td>\n",
       "      <td>175.0</td>\n",
       "      <td>Action,Crime,Drama</td>\n",
       "      <td>7.0</td>\n",
       "      <td>77</td>\n",
       "    </tr>\n",
       "    <tr>\n",
       "      <th>Ashad Ka Ek Din</th>\n",
       "      <td>tt0066787</td>\n",
       "      <td>One Day Before the Rainy Season</td>\n",
       "      <td>2019</td>\n",
       "      <td>114.0</td>\n",
       "      <td>Biography,Drama</td>\n",
       "      <td>7.2</td>\n",
       "      <td>43</td>\n",
       "    </tr>\n",
       "    <tr>\n",
       "      <th>The Other Side of the Wind</th>\n",
       "      <td>tt0069049</td>\n",
       "      <td>The Other Side of the Wind</td>\n",
       "      <td>2018</td>\n",
       "      <td>122.0</td>\n",
       "      <td>Drama</td>\n",
       "      <td>6.9</td>\n",
       "      <td>4517</td>\n",
       "    </tr>\n",
       "    <tr>\n",
       "      <th>Sabse Bada Sukh</th>\n",
       "      <td>tt0069204</td>\n",
       "      <td>Sabse Bada Sukh</td>\n",
       "      <td>2018</td>\n",
       "      <td>NaN</td>\n",
       "      <td>Comedy,Drama</td>\n",
       "      <td>6.1</td>\n",
       "      <td>13</td>\n",
       "    </tr>\n",
       "    <tr>\n",
       "      <th>La Telenovela Errante</th>\n",
       "      <td>tt0100275</td>\n",
       "      <td>The Wandering Soap Opera</td>\n",
       "      <td>2017</td>\n",
       "      <td>80.0</td>\n",
       "      <td>Comedy,Drama,Fantasy</td>\n",
       "      <td>6.5</td>\n",
       "      <td>119</td>\n",
       "    </tr>\n",
       "    <tr>\n",
       "      <th>...</th>\n",
       "      <td>...</td>\n",
       "      <td>...</td>\n",
       "      <td>...</td>\n",
       "      <td>...</td>\n",
       "      <td>...</td>\n",
       "      <td>...</td>\n",
       "      <td>...</td>\n",
       "    </tr>\n",
       "    <tr>\n",
       "      <th>Diabolik sono io</th>\n",
       "      <td>tt9913084</td>\n",
       "      <td>Diabolik sono io</td>\n",
       "      <td>2019</td>\n",
       "      <td>75.0</td>\n",
       "      <td>Documentary</td>\n",
       "      <td>6.2</td>\n",
       "      <td>6</td>\n",
       "    </tr>\n",
       "    <tr>\n",
       "      <th>Sokagin Çocuklari</th>\n",
       "      <td>tt9914286</td>\n",
       "      <td>Sokagin Çocuklari</td>\n",
       "      <td>2019</td>\n",
       "      <td>98.0</td>\n",
       "      <td>Drama,Family</td>\n",
       "      <td>8.7</td>\n",
       "      <td>136</td>\n",
       "    </tr>\n",
       "    <tr>\n",
       "      <th>Albatross</th>\n",
       "      <td>tt9914642</td>\n",
       "      <td>Albatross</td>\n",
       "      <td>2017</td>\n",
       "      <td>NaN</td>\n",
       "      <td>Documentary</td>\n",
       "      <td>8.5</td>\n",
       "      <td>8</td>\n",
       "    </tr>\n",
       "    <tr>\n",
       "      <th>La vida sense la Sara Amat</th>\n",
       "      <td>tt9914942</td>\n",
       "      <td>La vida sense la Sara Amat</td>\n",
       "      <td>2019</td>\n",
       "      <td>NaN</td>\n",
       "      <td>None</td>\n",
       "      <td>6.6</td>\n",
       "      <td>5</td>\n",
       "    </tr>\n",
       "    <tr>\n",
       "      <th>Drømmeland</th>\n",
       "      <td>tt9916160</td>\n",
       "      <td>Drømmeland</td>\n",
       "      <td>2019</td>\n",
       "      <td>72.0</td>\n",
       "      <td>Documentary</td>\n",
       "      <td>6.5</td>\n",
       "      <td>11</td>\n",
       "    </tr>\n",
       "  </tbody>\n",
       "</table>\n",
       "<p>73856 rows × 7 columns</p>\n",
       "</div>"
      ],
      "text/plain": [
       "                             movie_id                    primary_title  \\\n",
       "original_title                                                           \n",
       "Sunghursh                   tt0063540                        Sunghursh   \n",
       "Ashad Ka Ek Din             tt0066787  One Day Before the Rainy Season   \n",
       "The Other Side of the Wind  tt0069049       The Other Side of the Wind   \n",
       "Sabse Bada Sukh             tt0069204                  Sabse Bada Sukh   \n",
       "La Telenovela Errante       tt0100275         The Wandering Soap Opera   \n",
       "...                               ...                              ...   \n",
       "Diabolik sono io            tt9913084                 Diabolik sono io   \n",
       "Sokagin Çocuklari           tt9914286                Sokagin Çocuklari   \n",
       "Albatross                   tt9914642                        Albatross   \n",
       "La vida sense la Sara Amat  tt9914942       La vida sense la Sara Amat   \n",
       "Drømmeland                  tt9916160                       Drømmeland   \n",
       "\n",
       "                            start_year  runtime_minutes                genres  \\\n",
       "original_title                                                                  \n",
       "Sunghursh                         2013            175.0    Action,Crime,Drama   \n",
       "Ashad Ka Ek Din                   2019            114.0       Biography,Drama   \n",
       "The Other Side of the Wind        2018            122.0                 Drama   \n",
       "Sabse Bada Sukh                   2018              NaN          Comedy,Drama   \n",
       "La Telenovela Errante             2017             80.0  Comedy,Drama,Fantasy   \n",
       "...                                ...              ...                   ...   \n",
       "Diabolik sono io                  2019             75.0           Documentary   \n",
       "Sokagin Çocuklari                 2019             98.0          Drama,Family   \n",
       "Albatross                         2017              NaN           Documentary   \n",
       "La vida sense la Sara Amat        2019              NaN                  None   \n",
       "Drømmeland                        2019             72.0           Documentary   \n",
       "\n",
       "                            averagerating  numvotes  \n",
       "original_title                                       \n",
       "Sunghursh                             7.0        77  \n",
       "Ashad Ka Ek Din                       7.2        43  \n",
       "The Other Side of the Wind            6.9      4517  \n",
       "Sabse Bada Sukh                       6.1        13  \n",
       "La Telenovela Errante                 6.5       119  \n",
       "...                                   ...       ...  \n",
       "Diabolik sono io                      6.2         6  \n",
       "Sokagin Çocuklari                     8.7       136  \n",
       "Albatross                             8.5         8  \n",
       "La vida sense la Sara Amat            6.6         5  \n",
       "Drømmeland                            6.5        11  \n",
       "\n",
       "[73856 rows x 7 columns]"
      ]
     },
     "execution_count": 30,
     "metadata": {},
     "output_type": "execute_result"
    }
   ],
   "source": [
    "# Set the index to original title in order to use as our key to join IMDB and the numbers datasets\n",
    "imdb_movie_df = imdb_movie_df.set_index('original_title')\n",
    "imdb_movie_df"
   ]
  },
  {
   "cell_type": "code",
   "execution_count": 31,
   "metadata": {},
   "outputs": [],
   "source": [
    "# combine the tn movie and imdb dataset\n",
    "moviescombined_df = tnmoviebudgetROI2_df.join(imdb_movie_df, how='inner')"
   ]
  },
  {
   "cell_type": "markdown",
   "metadata": {},
   "source": [
    "Now that we have combined the movie data, we can analyze any categories that fall in this list to the ROI. Lets start with genre"
   ]
  },
  {
   "cell_type": "code",
   "execution_count": 32,
   "metadata": {
    "scrolled": false
   },
   "outputs": [
    {
     "data": {
      "image/png": "[encoded data removed]",
      "text/plain": [
       "<Figure size 432x288 with 1 Axes>"
      ]
     },
     "metadata": {},
     "output_type": "display_data"
    }
   ],
   "source": [
    "# Split genres into a combined list of all of the genres\n",
    "unique_genres = [val.strip() for sublist in moviescombined_df.genres.dropna().str.split(\",\").tolist() for val in sublist]\n",
    "# Gets a unique list of all of the genres\n",
    "genre, counts = np.unique(unique_genres, return_counts=True)\n",
    "\n",
    "arr1inds = np.argsort(counts)\n",
    "sorted_counts = counts[arr1inds[::-1]]\n",
    "sorted_genre = genre[arr1inds[::-1]]\n",
    "\n",
    "barplot = sns.barplot(y=sorted_genre, x=sorted_counts, color='b')\n",
    "barplot.set(xlabel=\"Count (movies)\", ylabel=\"Genre\", title=\"Movie Genres\");"
   ]
  },
  {
   "cell_type": "markdown",
   "metadata": {},
   "source": [
    "It looks like the most successful genre categories are Drama, Comedy, and Thriller. With Drama being almost double in frequency as compared to the the next sucessful genre.\n",
    "\n",
    "Lets look at runtime next"
   ]
  },
  {
   "cell_type": "code",
   "execution_count": 33,
   "metadata": {
    "scrolled": false
   },
   "outputs": [
    {
     "data": {
      "image/png": "[encoded data removed]",
      "text/plain": [
       "<Figure size 432x288 with 1 Axes>"
      ]
     },
     "metadata": {},
     "output_type": "display_data"
    }
   ],
   "source": [
    "# boxplot = moviescombined_df.boxplot(column=['runtime_minutes'])\n",
    "# boxplot.set(xlabel =None, ylabel=\"Runtime (minutes)\", title=\"Movie Runtime\");\n",
    "\n",
    "ax = sns.boxplot(y=moviescombined_df['runtime_minutes'], showfliers = False);\n",
    "ax.set(xlabel='Movies', ylabel=\"Runtime (minutes)\", title=\"Movie Runtime\");"
   ]
  },
  {
   "cell_type": "code",
   "execution_count": 34,
   "metadata": {},
   "outputs": [
    {
     "data": {
      "image/png": "[encoded data removed]",
      "text/plain": [
       "<Figure size 432x288 with 1 Axes>"
      ]
     },
     "metadata": {},
     "output_type": "display_data"
    }
   ],
   "source": [
    "ax = sns.scatterplot(x=moviescombined_df['ROI'], y=moviescombined_df['runtime_minutes'])\n",
    "ax.set(xlabel=\"ROI (%)\", ylabel=\"Runtime (minutes)\", title=\"ROI vs Runtime\");"
   ]
  },
  {
   "cell_type": "code",
   "execution_count": 35,
   "metadata": {
    "scrolled": false
   },
   "outputs": [
    {
     "data": {
      "text/plain": [
       "count    331.000000\n",
       "mean     104.323263\n",
       "std       20.262849\n",
       "min        3.000000\n",
       "25%       93.000000\n",
       "50%      103.000000\n",
       "75%      116.500000\n",
       "max      170.000000\n",
       "Name: runtime_minutes, dtype: float64"
      ]
     },
     "execution_count": 35,
     "metadata": {},
     "output_type": "execute_result"
    }
   ],
   "source": [
    "moviescombined_df['runtime_minutes'].describe()"
   ]
  },
  {
   "cell_type": "markdown",
   "metadata": {},
   "source": [
    "Looks like the average runtime is at around 104 minutes, and the times can vary from the 93 minutes at the 25% quartile to 116.5 minutes at the 75% quartile"
   ]
  },
  {
   "cell_type": "code",
   "execution_count": 36,
   "metadata": {
    "scrolled": true
   },
   "outputs": [
    {
     "data": {
      "text/plain": [
       "id             int64\n",
       "review        object\n",
       "rating        object\n",
       "fresh         object\n",
       "critic        object\n",
       "top_critic     int64\n",
       "publisher     object\n",
       "date          object\n",
       "dtype: object"
      ]
     },
     "execution_count": 36,
     "metadata": {},
     "output_type": "execute_result"
    }
   ],
   "source": [
    "rtreviews_df.dtypes"
   ]
  },
  {
   "cell_type": "code",
   "execution_count": 37,
   "metadata": {
    "scrolled": true
   },
   "outputs": [],
   "source": [
    "# Converts string overall rating (example. 3/5) to just a number\n",
    "rtreviews_df['rating_cleaned'] = rtreviews_df['rating'].str.split('/').str[0]"
   ]
  },
  {
   "cell_type": "code",
   "execution_count": 38,
   "metadata": {},
   "outputs": [],
   "source": [
    "# removes any rows that contain letter ratings\n",
    "rtreviews_df = rtreviews_df[rtreviews_df[\"rating_cleaned\"].str.contains(\"NaN|N|T|R| |A+|A|A-|B+|B|B-|C+|C|C-|D+|D|D-|F+|F|F-|1-5\")==False]"
   ]
  },
  {
   "cell_type": "code",
   "execution_count": 39,
   "metadata": {
    "scrolled": false
   },
   "outputs": [
    {
     "data": {
      "text/plain": [
       "array(['3', '2', '4', '6', '1', '8', '2.5', '2.0', '7', '5', '3.5', '1.5',\n",
       "       '9', '7.5', '5.5', '0', '0.5', '3.1', '4.5', '4.0', '9.5', '2.1',\n",
       "       '6.5', '3.7', '8.4', '7.2', '2.2', '7.7', '5.0', '8.5', '3.0',\n",
       "       '2.3', '8.6', '2.7', '4.2', '5.8', '7.1', '5.9', '2.4', '1.9',\n",
       "       '4.9', '7.4', '8.8', '3.8', '6.8', '7.3', '7.0', '3.2', '6.3',\n",
       "       '7.6', '8.1', '3.6', '1.8', '8.9', '8.2', '8.3', '2.6', '4.1',\n",
       "       '6.0', '1.0', '7.9', '8.7', '4.3', '9.6', '9.0', '1.7', '6.7',\n",
       "       '8.0', '9.2', '5.2', '4.7', '6.2', '3.4', '9.7', '3.3', '4.8',\n",
       "       '1.6', '7.8', '4.4', '6.9', '9.8'], dtype=object)"
      ]
     },
     "execution_count": 39,
     "metadata": {},
     "output_type": "execute_result"
    }
   ],
   "source": [
    "# show al values in column to confirm we did not miss any values\n",
    "rtreviews_df.rating_cleaned.unique()"
   ]
  },
  {
   "cell_type": "code",
   "execution_count": 40,
   "metadata": {
    "scrolled": false
   },
   "outputs": [],
   "source": [
    "# Pandas was throwing a \"setting with copy warning\" for the second line in this code. Need to include the first line which\n",
    "# copies the column then convert it from string to float values\n",
    "rtreviews_df = rtreviews_df[rtreviews_df['rating_cleaned'].notnull()].copy()\n",
    "rtreviews_df['rating_cleaned'] = rtreviews_df['rating_cleaned'].astype(float)"
   ]
  },
  {
   "cell_type": "code",
   "execution_count": 41,
   "metadata": {
    "scrolled": true
   },
   "outputs": [],
   "source": [
    "# keeps all ratings above 7\n",
    "rtreviews_df = rtreviews_df.loc[rtreviews_df['rating_cleaned'] > 7.0]"
   ]
  },
  {
   "cell_type": "code",
   "execution_count": 42,
   "metadata": {},
   "outputs": [],
   "source": [
    "# sets index to the movie id\n",
    "rtmovieinfo_df = rtmovieinfo_df.set_index('id')"
   ]
  },
  {
   "cell_type": "code",
   "execution_count": 43,
   "metadata": {},
   "outputs": [],
   "source": [
    "# gets all unique ids and gets those ids in the rtmovieinfo dataframe\n",
    "rtmovieid = rtreviews_df.id.unique()\n",
    "rtmovieinfo_df = rtmovieinfo_df.loc[rtmovieid]"
   ]
  },
  {
   "cell_type": "code",
   "execution_count": 44,
   "metadata": {
    "scrolled": false
   },
   "outputs": [
    {
     "data": {
      "image/png": "[encoded data removed]",
      "text/plain": [
       "<Figure size 432x288 with 1 Axes>"
      ]
     },
     "metadata": {},
     "output_type": "display_data"
    }
   ],
   "source": [
    "# sorts and plots movie ratings\n",
    "rating = rtmovieinfo_df['rating'].value_counts(sort=True)\n",
    "\n",
    "barplot2 = sns.barplot(x=rating.index, y=rating.values, color='b')\n",
    "barplot2.set(xlabel=\"Rating\", ylabel=\"Count (movies)\", title=\"Movie Rating\");\n"
   ]
  },
  {
   "cell_type": "markdown",
   "metadata": {},
   "source": [
    "Looks like the most popular movie ratings are R, PG-13, and PG. The R rating bets the next movie rating by about double in frequency."
   ]
  },
  {
   "cell_type": "code",
   "execution_count": 45,
   "metadata": {
    "scrolled": true
   },
   "outputs": [
    {
     "data": {
      "image/png": "[encoded data removed]",
      "text/plain": [
       "<Figure size 432x288 with 1 Axes>"
      ]
     },
     "metadata": {},
     "output_type": "display_data"
    }
   ],
   "source": [
    "rtdirectors = rtmovieinfo_df['director'].value_counts()\n",
    "rtdirectorsbool = rtdirectors > 2\n",
    "rtdirectorsprimary = rtdirectorsbool[rtdirectorsbool].index\n",
    "rtdirectorsprimary_df = rtdirectors[rtdirectorsprimary]\n",
    "\n",
    "\n",
    "# barplot3 = rtdirectorsprimary_df.plot( kind='bar');\n",
    "# barplot3.set(xlabel = 'Director Name', ylabel=\"Count (movies)\", title=\"Movie Director\");\n",
    "\n",
    "barplot3 = sns.barplot(x=rtdirectorsprimary_df.index, y=rtdirectorsprimary_df.values, color='b')\n",
    "barplot3.set(xlabel=\"Director Name\", ylabel=\"Count (movies)\", title=\"Movie Director\")\n",
    "plt.xticks(rotation=45);"
   ]
  },
  {
   "cell_type": "markdown",
   "metadata": {},
   "source": [
    " In experimenting with the number above it looks like there are over 30 directors who have done 2 or more movies, but there are 6 directors who have only done 3 or more movies. One of the directors, Woody Allen, is actually no longer active in directing. So we will use the other 5 as our list of recommendations for the directors."
   ]
  },
  {
   "cell_type": "markdown",
   "metadata": {},
   "source": [
    "Our results have revealed a few findings on Microsoft pursuing a movie studio. Here are the takeaways in analyzing movies that have at least 200% ROI:\n",
    "- The average cost of production for a movie with the range being the 25% to 75% quartile range, can be 5 million to 40 million dollars.\n",
    "- The profit for a movie with the range being the 25% to 75% quartile range, can be 12 million to 260 million dollars.\n",
    "\n",
    "Analyzing movies that have at least 200% ROI and a range of production cost being from 5 million to 40 million:\n",
    "- The genre ordered by highest frequency in the dataset are Drama, Comedy, and Thriller\n",
    "- The runtime for a movie with the range being the 25% to 75% quartile range, can be from 93 minutes to 116.5 minutes long\n",
    "\n",
    "Analyzing viewer reviews that are over 7 out of 10:\n",
    "- The directors listed by highest frequency in the dataset are Steven Spielberg, Clint Eastwood, Ridley Scott, Jim Jamusch, and David Fincher (these exclude Woody Allen who is no longer active as a director).\n",
    "- The rating listed by highest frequency in the dataset are R, PG-13, and PG.\n"
   ]
  },
  {
   "cell_type": "code",
   "execution_count": null,
   "metadata": {},
   "outputs": [],
   "source": []
  }
 ],
 "metadata": {
  "kernelspec": {
   "display_name": "Python 3",
   "language": "python",
   "name": "python3"
  },
  "language_info": {
   "codemirror_mode": {
    "name": "ipython",
    "version": 3
   },
   "file_extension": ".py",
   "mimetype": "text/x-python",
   "name": "python",
   "nbconvert_exporter": "python",
   "pygments_lexer": "ipython3",
   "version": "3.8.5"
  }
 },
 "nbformat": 4,
 "nbformat_minor": 2
}
